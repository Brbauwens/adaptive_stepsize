{
 "cells": [
  {
   "cell_type": "code",
   "execution_count": 1,
   "metadata": {},
   "outputs": [],
   "source": [
    "import torch\n",
    "from torch import nn\n",
    "import collections\n",
    "import matplotlib.pyplot as plt\n",
    "from IPython import display\n",
    "\n",
    "#from sklearn.datasets import fetch_california_housing\n",
    "from sklearn.pipeline import Pipeline, FeatureUnion\n",
    "from sklearn.preprocessing import StandardScaler, LabelBinarizer, LabelEncoder, OneHotEncoder\\\n",
    "    , FunctionTransformer\n",
    "from sklearn.compose import ColumnTransformer\n",
    "from sklearn.base import BaseEstimator,TransformerMixin\n",
    "from sklearn.model_selection import StratifiedShuffleSplit\n",
    "from sklearn.impute import SimpleImputer\n",
    "from sklearn.linear_model import LinearRegression\n",
    "from sklearn.metrics import mean_squared_error\n",
    "import pandas as pd\n",
    "import numpy as np\n",
    "\n",
    "from common.optim.meta import MetaData\n",
    "from common.optim.optimise_v5 import NetLineStepProcessorMSE\n",
    "from common.ffn_minst_relu import RegressionReLU, MNISTReLU\n",
    "\n",
    "import logging"
   ]
  },
  {
   "cell_type": "code",
   "execution_count": 2,
   "metadata": {},
   "outputs": [],
   "source": [
    "logging.basicConfig(filename=\"logs/california_housing_regression.log\",\n",
    "                level=logging.INFO,\n",
    "                format=\"%(levelname)s: %(asctime)s %(message)s\",\n",
    "                datefmt=\"%m/%d/%Y %I:%M:%S\")"
   ]
  },
  {
   "cell_type": "markdown",
   "metadata": {},
   "source": [
    "#### Constants"
   ]
  },
  {
   "cell_type": "code",
   "execution_count": 3,
   "metadata": {},
   "outputs": [],
   "source": [
    "OUTPUT_DIM=1\n",
    "DEVICE = torch.device('cuda:0' if torch.cuda.is_available() else 'cpu')\n",
    "\n",
    "slope_plus, slope_minus=1.0, 0.0\n",
    "\n",
    "#EXPERIMENTS = 3 #10\n",
    "#EPOCHS_PER_EXPERIMENT = 30\n",
    "#DATASET_PATH = \"./datasets\""
   ]
  },
  {
   "cell_type": "markdown",
   "metadata": {},
   "source": [
    "#### California housing dataset"
   ]
  },
  {
   "cell_type": "code",
   "execution_count": 4,
   "metadata": {},
   "outputs": [],
   "source": [
    "housing = pd.read_csv(\"datasets_regression/housing.csv\")\n",
    "housing[\"income_cat\"]=np.ceil(housing[\"median_income\"]/1.5)\n",
    "housing[\"income_cat\"]=housing[\"income_cat\"].apply(lambda x: 5 if x>5 else x)\n",
    "\n",
    "split= StratifiedShuffleSplit(n_splits=1,test_size=0.2,random_state=42)\n",
    "for train_idx,test_idx in split.split(housing,housing[\"income_cat\"]):\n",
    "    strat_train_set=housing.loc[train_idx]\n",
    "    strat_test_set=housing.loc[test_idx]\n",
    "\n",
    "temp = (strat_train_set,strat_test_set)\n",
    "for ii in temp:\n",
    "    ii.drop([\"income_cat\"],axis=1,inplace=True)\n"
   ]
  },
  {
   "cell_type": "code",
   "execution_count": 5,
   "metadata": {},
   "outputs": [],
   "source": [
    "rooms_ix,bedrooms_ix,population_ix,household_ix=3,4,5,6\n",
    "\n",
    "class FeatureAdder(BaseEstimator, TransformerMixin):\n",
    "    def __init__(self,add_bedrooms_per_room=True):\n",
    "        self.add_bedrooms_per_room=add_bedrooms_per_room\n",
    "    def fit(self,X,y=None):\n",
    "        return self\n",
    "    def transform(self,X,y=None):\n",
    "        rooms_per_household=X[:,rooms_ix]/X[:,household_ix]\n",
    "        population_per_household=X[:,population_ix]/X[:,household_ix]\n",
    "        \n",
    "        if self.add_bedrooms_per_room:\n",
    "            bedrooms_per_room=X[:,bedrooms_ix]/X[:,rooms_ix]\n",
    "            return np.c_[X,rooms_per_household,population_per_household,bedrooms_per_room]\n",
    "        else:\n",
    "            return np.c_[X,rooms_per_household,population_per_household]\n",
    "\n",
    "num_attribs=[\"longitude\", \"latitude\", \"housing_median_age\", \"total_rooms\", \\\n",
    "    \"total_bedrooms\", \"population\", \"households\", \"median_income\"]\n",
    "cat_attribs=[\"ocean_proximity\"]\n",
    "\n",
    "num_pipeline=Pipeline([\n",
    "    (\"imputer\",SimpleImputer(strategy=\"median\")),\n",
    "    (\"feature_adder\",FeatureAdder()),\n",
    "    (\"std_scaler\",StandardScaler()),\n",
    "])\n",
    "\n",
    "full_pipeline=ColumnTransformer([\n",
    "    (\"num\", num_pipeline, num_attribs),\n",
    "    (\"cat\", OneHotEncoder(), cat_attribs),\n",
    "])"
   ]
  },
  {
   "cell_type": "markdown",
   "metadata": {},
   "source": [
    "#### Train set transformaion"
   ]
  },
  {
   "cell_type": "code",
   "execution_count": 6,
   "metadata": {},
   "outputs": [],
   "source": [
    "Y_train=strat_train_set[\"median_house_value\"].copy()\n",
    "X_train=strat_train_set.drop(\"median_house_value\",axis=1)\n",
    "X_train_prepared = full_pipeline.fit_transform(X_train)\n",
    "\n",
    "Y_test= strat_test_set[\"median_house_value\"].copy()\n",
    "X_test= strat_test_set.drop(\"median_house_value\",axis=1)\n",
    "X_test_prepared = full_pipeline.transform(X_test)"
   ]
  },
  {
   "cell_type": "markdown",
   "metadata": {},
   "source": [
    "#### Train with linear regression, MSE value on test set is estimited"
   ]
  },
  {
   "cell_type": "code",
   "execution_count": 7,
   "metadata": {},
   "outputs": [
    {
     "name": "stdout",
     "output_type": "stream",
     "text": [
      "rmse for linear regression=66913.4419132093\n"
     ]
    }
   ],
   "source": [
    "lin_reg=LinearRegression()\n",
    "lin_reg.fit(X_train_prepared,Y_train)\n",
    "\n",
    "lin_predictions= lin_reg.predict(X_test_prepared)\n",
    "lin_rmse= np.sqrt(mean_squared_error(Y_test,lin_predictions))\n",
    "print(\"rmse for linear regression={}\".format(lin_rmse))\n"
   ]
  },
  {
   "cell_type": "markdown",
   "metadata": {},
   "source": [
    "#### Train with two-step algorithm"
   ]
  },
  {
   "cell_type": "code",
   "execution_count": 8,
   "metadata": {},
   "outputs": [],
   "source": [
    "X_train_prepared_tn = torch.from_numpy(X_train_prepared).float().to(DEVICE)\n",
    "Y_train_tn = torch.from_numpy(Y_train.to_numpy()).float().to(DEVICE)[:, None]\n",
    "\n",
    "X_test_prepared_tn = torch.from_numpy(X_test_prepared).float().to(DEVICE)\n",
    "#Y_test_tn = torch.from_numpy(Y_test.to_numpy()).float().to(DEVICE)[:, None]\n"
   ]
  },
  {
   "cell_type": "code",
   "execution_count": 9,
   "metadata": {},
   "outputs": [],
   "source": [
    "#Weights distribution variances are set as in (5.67)\n",
    "cb, cw = 0, 2.0/(slope_plus**2.0 + slope_minus**2.0)\n",
    "\n",
    "net_regression = RegressionReLU(input_dim=16, output_dim=OUTPUT_DIM)\n",
    "net_regression.set_slopes(slope_plus, slope_minus)\n",
    "net_regression.init_weights(cb, cw)\n",
    "net_regression.to(DEVICE)\n",
    "\n",
    "meta = MetaData(batch_size = Y_train.size, output_dim=OUTPUT_DIM, device=DEVICE)\n",
    "opt_regression = NetLineStepProcessorMSE(net_regression, nn.MSELoss(), meta, DEVICE)\n",
    "opt_regression.eta0 = 0.0001\n",
    "opt_regression.alpha = 1/Y_train.size\n",
    "opt_regression.beta = 1e-6\n"
   ]
  },
  {
   "cell_type": "code",
   "execution_count": 10,
   "metadata": {},
   "outputs": [],
   "source": [
    "HISTORY_PARAMS = collections.defaultdict(list)\n",
    "\n",
    "def print_loss():\n",
    "    display.clear_output()\n",
    "    fig, axes = plt.subplots(1, 1, figsize=(8, 6))\n",
    "    axes.set_title('Loss (MSE)')\n",
    "    axes.plot(HISTORY_PARAMS['test_loss'], color='g',alpha=.5, label='Net-line two-steps')\n",
    "    axes.grid()\n",
    "    axes.legend()\n",
    "    axes.set_xlabel(\"Gradient descent step\")\n",
    "    axes.set_ylabel(\"Loss value\")\n",
    "\n",
    "    plt.show()"
   ]
  },
  {
   "cell_type": "code",
   "execution_count": 11,
   "metadata": {},
   "outputs": [
    {
     "data": {
      "image/png": "[encoded data removed]",
      "text/plain": [
       "<Figure size 800x600 with 1 Axes>"
      ]
     },
     "metadata": {},
     "output_type": "display_data"
    }
   ],
   "source": [
    "def rmse_validation():\n",
    "    with torch.no_grad():\n",
    "        net_predictions= net_regression.forward(X_test_prepared_tn)\n",
    "        return np.sqrt(mean_squared_error(Y_test, torch.squeeze(net_predictions).cpu().numpy()))\n",
    "        #print(\"rmse for linear regression={}\".format(net_rmse))\n",
    "\n",
    "rmse_prev, rmse_next = 1e10, rmse_validation() \n",
    "\n",
    "while (rmse_prev - rmse_next)/rmse_next > 1e-6:\n",
    "    rmse_prev = rmse_next\n",
    "    step_result = opt_regression.step(Y_train_tn, X_train_prepared_tn, momentum=0.0)\n",
    "    rmse_next = rmse_validation()\n",
    "    HISTORY_PARAMS['test_loss'].append(rmse_next)\n",
    "    if len(HISTORY_PARAMS['test_loss']) % 250 == 0:\n",
    "        print_loss()\n",
    "\n",
    "print_loss()\n"
   ]
  },
  {
   "cell_type": "code",
   "execution_count": 12,
   "metadata": {},
   "outputs": [
    {
     "name": "stdout",
     "output_type": "stream",
     "text": [
      "rmse for linear regression=66839.84683910031\n"
     ]
    }
   ],
   "source": [
    "print(\"rmse for linear regression={}\".format(rmse_validation()))\n"
   ]
  }
 ],
 "metadata": {
  "kernelspec": {
   "display_name": "Python 3",
   "language": "python",
   "name": "python3"
  },
  "language_info": {
   "codemirror_mode": {
    "name": "ipython",
    "version": 3
   },
   "file_extension": ".py",
   "mimetype": "text/x-python",
   "name": "python",
   "nbconvert_exporter": "python",
   "pygments_lexer": "ipython3",
   "version": "3.12.5"
  }
 },
 "nbformat": 4,
 "nbformat_minor": 2
}
